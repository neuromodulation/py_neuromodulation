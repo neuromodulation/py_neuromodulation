{
  "cells": [
    {
      "cell_type": "markdown",
      "metadata": {},
      "source": [
        "\n# Adding New Features\n"
      ]
    },
    {
      "cell_type": "code",
      "execution_count": null,
      "metadata": {
        "collapsed": false
      },
      "outputs": [],
      "source": [
        "import py_neuromodulation as nm\nimport numpy as np\nfrom typing import Iterable"
      ]
    },
    {
      "cell_type": "markdown",
      "metadata": {},
      "source": [
        "In this example we will demonstrate how a new feature can be added to the existing feature pipeline.\nThis can be done by creating a new feature class that implements the protocol class :class:`~features.NMFeature`\nand registering it with the :func:`~features.AddCustomFeature` function.\n\n"
      ]
    },
    {
      "cell_type": "markdown",
      "metadata": {},
      "source": [
        "Let's create a new feature class called `ChannelMean` that calculates the mean signal for each channel.\nWe can optinally make it inherit from :class:`~features.NMFeature` but as long as it has an adequate constructor\nand a `calc_feature` method with the appropriate signatures it will work.\nThe :func:`__init__` method should take the settings, channel names and sampling frequency as arguments.\nThe `calc_feature` method should take the data and a dictionary of features as arguments and return the updated dictionary.\n\n"
      ]
    },
    {
      "cell_type": "code",
      "execution_count": null,
      "metadata": {
        "collapsed": false
      },
      "outputs": [],
      "source": [
        "class ChannelMean:\n    def __init__(\n        self, settings: nm.NMSettings, ch_names: Iterable[str], sfreq: float\n    ) -> None:\n        # If required for feature calculation, store the settings,\n        # channel names and sampling frequency (optional)\n        self.settings = settings\n        self.ch_names = ch_names\n        self.sfreq = sfreq\n\n        # Here you can add any additional initialization code\n        # For example, you could store parameters for the functions\\\n        # used in the calc_feature method\n\n        self.feature_name = \"channel_mean\"\n\n    def calc_feature(self, data: np.ndarray) -> dict:\n        # First, create an empty dictionary to store the calculated features\n        feature_results = {}\n\n        # Here you can add any feature calculation code\n        # This example simply calculates the mean signal for each channel\n        ch_means = np.mean(data, axis=1)\n\n        # Store the calculated features in the feature_results dictionary\n        # Be careful to use a unique keyfor each channel and metric you compute\n        for ch_idx, ch in enumerate(self.ch_names):\n            feature_results[f\"{self.feature_name}_{ch}\"] = ch_means[ch_idx]\n\n        # Return the updated feature_results dictionary to the stream\n        return feature_results"
      ]
    },
    {
      "cell_type": "markdown",
      "metadata": {},
      "source": [
        "Now we can instantiate settings and observe that the new feature has been added to the list of features\n\n"
      ]
    },
    {
      "cell_type": "code",
      "execution_count": null,
      "metadata": {
        "collapsed": false
      },
      "outputs": [],
      "source": [
        "settings = nm.NMSettings()  # Get default settings\nnm.add_custom_feature(\"channel_mean\", ChannelMean)\n\n\nsettings.features"
      ]
    },
    {
      "cell_type": "markdown",
      "metadata": {},
      "source": [
        "Let's create some artificial data to demonstrate the feature calculation.\n\n"
      ]
    },
    {
      "cell_type": "code",
      "execution_count": null,
      "metadata": {
        "collapsed": false
      },
      "outputs": [],
      "source": [
        "N_CHANNELS = 5\nN_SAMPLES = 10000  # 10 seconds of random data at 1000 Hz sampling frequency\n\ndata = np.random.random([N_CHANNELS, N_SAMPLES])\nstream = nm.Stream(\n    sfreq=1000,\n    data=data,\n    settings=settings,\n    sampling_rate_features_hz=10,\n    verbose=False,\n)\n\nfeature_df = stream.run()\ncolumns = [col for col in feature_df.columns if \"channel_mean\" in col]\n\nfeature_df[columns]"
      ]
    },
    {
      "cell_type": "markdown",
      "metadata": {},
      "source": [
        "Remove feature so that it does not interfere with other examples\n\n"
      ]
    },
    {
      "cell_type": "code",
      "execution_count": null,
      "metadata": {
        "collapsed": false
      },
      "outputs": [],
      "source": [
        "nm.remove_custom_feature(\"channel_mean\")"
      ]
    }
  ],
  "metadata": {
    "kernelspec": {
      "display_name": "Python 3",
      "language": "python",
      "name": "python3"
    },
    "language_info": {
      "codemirror_mode": {
        "name": "ipython",
        "version": 3
      },
      "file_extension": ".py",
      "mimetype": "text/x-python",
      "name": "python",
      "nbconvert_exporter": "python",
      "pygments_lexer": "ipython3",
      "version": "3.12.11"
    }
  },
  "nbformat": 4,
  "nbformat_minor": 0
}