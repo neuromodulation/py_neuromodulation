{
  "cells": [
    {
      "cell_type": "markdown",
      "metadata": {},
      "source": [
        "\n# Cebra Decoding with no training Example\n\nThe following example shows how to use the Cebra package for decoding without patient-individual training.\nNote that the plot_8_cebra_example.py file just hosts the example_cebra_decoding.html file due to computational limitations.\nWhen re-running this file, please refer to the example_cebra_decoding.ipynb in the examples directory.\n"
      ]
    },
    {
      "cell_type": "code",
      "execution_count": null,
      "metadata": {
        "collapsed": false
      },
      "outputs": [],
      "source": [
        "import os\n\n# load example_cebra_decoding.html\nwith open(os.path.join(\"..\", \"examples\", \"example_cebra_decoding.html\"), \"rt\") as fh:\n    html_data = fh.read()\n\ntmp_dir = os.path.join(\"..\", \"docs\", \"source\", \"auto_examples\")\nif os.path.exists(tmp_dir):\n    # building the docs with sphinx-gallery\n    with open(os.path.join(tmp_dir, \"out.html\"), \"wt\") as fh:\n        fh.write(html_data)\n# set example path for thumbnail\n# sphinx_gallery_thumbnail_path = '_static/CEBRA_embedding.png'"
      ]
    },
    {
      "cell_type": "markdown",
      "metadata": {},
      "source": [
        "## CEBRA example\n\n.. raw:: html\n    :file: out.html\n\n"
      ]
    }
  ],
  "metadata": {
    "kernelspec": {
      "display_name": "Python 3",
      "language": "python",
      "name": "python3"
    },
    "language_info": {
      "codemirror_mode": {
        "name": "ipython",
        "version": 3
      },
      "file_extension": ".py",
      "mimetype": "text/x-python",
      "name": "python",
      "nbconvert_exporter": "python",
      "pygments_lexer": "ipython3",
      "version": "3.12.11"
    }
  },
  "nbformat": 4,
  "nbformat_minor": 0
}