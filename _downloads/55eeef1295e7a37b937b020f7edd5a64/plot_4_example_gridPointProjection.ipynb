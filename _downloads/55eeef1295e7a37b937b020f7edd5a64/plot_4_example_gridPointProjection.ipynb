{
  "cells": [
    {
      "cell_type": "markdown",
      "metadata": {},
      "source": [
        "\n# Grid Point Projection\n"
      ]
    },
    {
      "cell_type": "markdown",
      "metadata": {},
      "source": [
        "In ECoG datasets the electrode locations are usually different. For this reason, we established a grid\nwith a set of points defined in a standardized MNI brain.\nData is then interpolated to this grid, such that they are common across patients, which allows across patient decoding use cases.\n\nIn this notebook, we will plot these grid points and see how the features extracted from our data can be projected into this grid space.\n\nIn order to do so, we'll read saved features that were computed in the ECoG movement notebook.\nPlease note that in order to do so, when running the feature estimation, the settings\n\n<div class=\"alert alert-info\"><h4>Note</h4><p>```python\nstream.settings['postprocessing']['project_cortex'] = True\nstream.settings['postprocessing']['project_subcortex'] = True\n```\n    need to be set to `True` for a cortical and/or subcortical projection.</p></div>\n\n\n"
      ]
    },
    {
      "cell_type": "code",
      "execution_count": null,
      "metadata": {
        "collapsed": false
      },
      "outputs": [],
      "source": [
        "import numpy as np\nimport matplotlib.pyplot as plt\n\nimport py_neuromodulation as nm"
      ]
    },
    {
      "cell_type": "markdown",
      "metadata": {},
      "source": [
        "## Read features from BIDS data\n\nWe first estimate features, with the `grid_point` projection settings enabled for cortex.\n\n"
      ]
    },
    {
      "cell_type": "code",
      "execution_count": null,
      "metadata": {
        "collapsed": false
      },
      "outputs": [],
      "source": [
        "RUN_NAME, PATH_RUN, PATH_BIDS, PATH_OUT, datatype = nm.io.get_paths_example_data()\n\n(\n    raw,\n    data,\n    sfreq,\n    line_noise,\n    coord_list,\n    coord_names,\n) = nm.io.read_BIDS_data(PATH_RUN=PATH_RUN)\n\nsettings = nm.NMSettings.get_fast_compute()\n\nsettings.postprocessing.project_cortex = True\n\nchannels = nm.utils.set_channels(\n    ch_names=raw.ch_names,\n    ch_types=raw.get_channel_types(),\n    reference=\"default\",\n    bads=raw.info[\"bads\"],\n    new_names=\"default\",\n    used_types=(\"ecog\", \"dbs\", \"seeg\"),\n    target_keywords=[\"MOV_RIGHT\", \"MOV_LEFT\"],\n)\n\nstream = nm.Stream(\n    sfreq=sfreq,\n    channels=channels,\n    settings=settings,\n    line_noise=line_noise,\n    coord_list=coord_list,\n    coord_names=coord_names,\n    verbose=True,\n)\n\nfeatures = stream.run(\n    data=data[:, : int(sfreq * 5)],\n    out_dir=PATH_OUT,\n    experiment_name=RUN_NAME,\n    save_csv=True,\n)"
      ]
    },
    {
      "cell_type": "markdown",
      "metadata": {},
      "source": [
        "From analysis.py, we use the :class:~`analysis.FeatureReader` class to load the data.\n\n"
      ]
    },
    {
      "cell_type": "code",
      "execution_count": null,
      "metadata": {
        "collapsed": false
      },
      "outputs": [],
      "source": [
        "# init analyzer\nfeature_reader = nm.FeatureReader(feature_dir=PATH_OUT, feature_file=RUN_NAME)"
      ]
    },
    {
      "cell_type": "markdown",
      "metadata": {},
      "source": [
        "To perform the grid projection, for all computed features we check for every grid point if there is any electrode channel within the spatial range ```max_dist_mm```, and weight\nthis electrode contact by the inverse distance and normalize across all electrode distances within the maximum distance range.\nThis gives us a projection matrix that we can apply to streamed data, to transform the feature-channel matrix *(n_features, n_channels)* into the grid point matrix *(n_features, n_gridpoints)*.\n\nTo save computation time, this projection matrix is precomputed before the real time run computation.\nThe cortical grid is stored in *py_neuromodulation/grid_cortex.tsv* and the electrodes coordinates are stored in *_space-mni_electrodes.tsv* in a BIDS dataset.\n\n<div class=\"alert alert-info\"><h4>Note</h4><p>One remark is that our cortical and subcortical grids are defined for the **left** hemisphere of the brain and, therefore, electrode contacts are mapped to the left hemisphere.</p></div>\n\nFrom the analyzer, the user can plot the cortical projection with the function below, display the grid points and ECoG electrodes are crosses.\nThe yellow grid points are the ones that are active for that specific ECoG electrode location. The inactive grid points are shown in purple.\n\n"
      ]
    },
    {
      "cell_type": "code",
      "execution_count": null,
      "metadata": {
        "collapsed": false
      },
      "outputs": [],
      "source": [
        "feature_reader.plot_cort_projection()"
      ]
    },
    {
      "cell_type": "markdown",
      "metadata": {},
      "source": [
        "We can also plot only the ECoG electrodes or the grid points, with the help of the data saved in feature_reader.sidecar. BIDS sidecar files are json files where you store additional information, here it is used to save the ECoG strip positions and the grid coordinates, which are not part of the settings and channels.csv. We can check what is stored in the file and then use the nmplotter.plot_cortex function:\n\n"
      ]
    },
    {
      "cell_type": "code",
      "execution_count": null,
      "metadata": {
        "collapsed": false
      },
      "outputs": [],
      "source": [
        "grid_plotter = nm.analysis.NM_Plot(\n    ecog_strip=np.array(feature_reader.sidecar[\"coords\"][\"cortex_right\"][\"positions\"]),\n    grid_cortex=np.array(feature_reader.sidecar[\"grid_cortex\"]),\n    # grid_subcortex=np.array(feature_reader.sidecar[\"grid_subcortex\"]),\n    sess_right=feature_reader.sidecar[\"sess_right\"],\n    proj_matrix_cortex=np.array(feature_reader.sidecar[\"proj_matrix_cortex\"]),\n)"
      ]
    },
    {
      "cell_type": "code",
      "execution_count": null,
      "metadata": {
        "collapsed": false
      },
      "outputs": [],
      "source": [
        "grid_plotter.plot_cortex(\n    grid_color=np.sum(np.array(feature_reader.sidecar[\"proj_matrix_cortex\"]), axis=1),\n    lower_clim=0.0,\n    upper_clim=1.0,\n    cbar_label=\"Used Grid Points\",\n    title=\"ECoG electrodes projected onto cortical grid\",\n)"
      ]
    },
    {
      "cell_type": "code",
      "execution_count": null,
      "metadata": {
        "collapsed": false
      },
      "outputs": [],
      "source": [
        "feature_reader.sidecar[\"coords\"][\"cortex_right\"][\"positions\"]"
      ]
    },
    {
      "cell_type": "code",
      "execution_count": null,
      "metadata": {
        "collapsed": false
      },
      "outputs": [],
      "source": [
        "feature_reader.nmplotter.plot_cortex(\n    ecog_strip=np.array(\n        feature_reader.sidecar[\"coords\"][\"cortex_right\"][\"positions\"],\n    ),\n    lower_clim=0.0,\n    upper_clim=1.0,\n    cbar_label=\"Used ECoG Electrodes\",\n    title=\"Plot of ECoG electrodes\",\n)"
      ]
    },
    {
      "cell_type": "code",
      "execution_count": null,
      "metadata": {
        "collapsed": false
      },
      "outputs": [],
      "source": [
        "feature_reader.nmplotter.plot_cortex(\n    np.array(feature_reader.sidecar[\"grid_cortex\"]),\n    lower_clim=0.0,\n    upper_clim=1.0,\n    cbar_label=\"All Grid Points\",\n    title=\"All grid points\",\n)"
      ]
    },
    {
      "cell_type": "markdown",
      "metadata": {},
      "source": [
        "## The Projection Matrix\nTo go from the feature-channel matrix *(n_features, n_channels)* to the grid point matrix *(n_features, n_gridpoints)*\nwe need a projection matrix that has the shape *(n_channels, n_gridpoints)*.\nIt maps the strengths of the signals in each ECoG channel to the correspondent ones in the cortical grid.\nIn the cell below we plot this matrix, that has the property that the column sum over channels for each grid point is either 1 or 0.\n\n"
      ]
    },
    {
      "cell_type": "code",
      "execution_count": null,
      "metadata": {
        "collapsed": false
      },
      "outputs": [],
      "source": [
        "plt.figure(figsize=(8, 5))\nplt.imshow(np.array(feature_reader.sidecar[\"proj_matrix_cortex\"]), aspect=\"auto\")\nplt.colorbar(label=\"Strength of ECoG signal in each grid point\")\nplt.xlabel(\"ECoG channels\")\nplt.ylabel(\"Grid points\")\nplt.title(\"Matrix mapping from ECoG to grid\")"
      ]
    },
    {
      "cell_type": "markdown",
      "metadata": {},
      "source": [
        "## Feature Plot in the Grid: An Example of Post-processing\nFirst we take the dataframe with all the features in all time points.\n\n"
      ]
    },
    {
      "cell_type": "code",
      "execution_count": null,
      "metadata": {
        "collapsed": false
      },
      "outputs": [],
      "source": [
        "df = feature_reader.feature_arr"
      ]
    },
    {
      "cell_type": "code",
      "execution_count": null,
      "metadata": {
        "collapsed": false
      },
      "outputs": [],
      "source": [
        "df.iloc[:5, :5]"
      ]
    },
    {
      "cell_type": "markdown",
      "metadata": {},
      "source": [
        "Then we filter for only 'avgref_fft_theta', which gives us the value for fft_theta in all 6 ECoG channels over all time points. Then we take only the 6th time point - as an arbitrary choice.\n\n"
      ]
    },
    {
      "cell_type": "code",
      "execution_count": null,
      "metadata": {
        "collapsed": false
      },
      "outputs": [],
      "source": [
        "fft_theta_oneTimePoint = np.asarray(\n    df[df.columns[df.columns.str.contains(pat=\"avgref_fft_theta\")]].iloc[5]\n)\nfft_theta_oneTimePoint"
      ]
    },
    {
      "cell_type": "markdown",
      "metadata": {},
      "source": [
        "Then the projection of the features into the grid is gonna be the color of the grid points in the *plot_cortex* function.\nThat is the matrix multiplication of the projection matrix of the cortex and 6 values for the *fft_theta* feature above.\n\n"
      ]
    },
    {
      "cell_type": "code",
      "execution_count": null,
      "metadata": {
        "collapsed": false
      },
      "outputs": [],
      "source": [
        "grid_fft_Theta = (\n    np.array(feature_reader.sidecar[\"proj_matrix_cortex\"]) @ fft_theta_oneTimePoint\n)\n\nfeature_reader.nmplotter.plot_cortex(\n    np.array(feature_reader.sidecar[\"grid_cortex\"]),\n    grid_color=grid_fft_Theta,\n    set_clim=True,\n    lower_clim=min(grid_fft_Theta[grid_fft_Theta > 0]),\n    upper_clim=max(grid_fft_Theta),\n    cbar_label=\"FFT Theta Projection to Grid\",\n    title=\"FFT Theta Projection to Grid\",\n)"
      ]
    },
    {
      "cell_type": "markdown",
      "metadata": {},
      "source": [
        "Lower and upper boundaries for clim were chosen to be the max and min values of the projection of the features (minimum value excluding zero). This can be checked in the cell below:\n\n"
      ]
    },
    {
      "cell_type": "code",
      "execution_count": null,
      "metadata": {
        "collapsed": false
      },
      "outputs": [],
      "source": [
        "grid_fft_Theta"
      ]
    },
    {
      "cell_type": "markdown",
      "metadata": {},
      "source": [
        "In the plot above we can see how the intensity of the fast fourier transform in the theta band varies for each grid point in the cortex, for one specific time point.\n\n"
      ]
    }
  ],
  "metadata": {
    "kernelspec": {
      "display_name": "Python 3",
      "language": "python",
      "name": "python3"
    },
    "language_info": {
      "codemirror_mode": {
        "name": "ipython",
        "version": 3
      },
      "file_extension": ".py",
      "mimetype": "text/x-python",
      "name": "python",
      "nbconvert_exporter": "python",
      "pygments_lexer": "ipython3",
      "version": "3.12.11"
    }
  },
  "nbformat": 4,
  "nbformat_minor": 0
}