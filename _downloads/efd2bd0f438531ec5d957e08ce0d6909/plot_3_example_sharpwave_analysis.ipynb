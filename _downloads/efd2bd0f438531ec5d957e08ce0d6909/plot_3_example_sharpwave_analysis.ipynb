{
  "cells": [
    {
      "cell_type": "markdown",
      "metadata": {},
      "source": [
        "\n# Analyzing temporal features\n"
      ]
    },
    {
      "cell_type": "markdown",
      "metadata": {},
      "source": [
        "Time series data can be characterized using oscillatory components, but assumptions of sinusoidality are for real data rarely fulfilled.\nSee *\"Brain Oscillations and the Importance of Waveform Shape\"* [Cole et al 2017](https://doi.org/10.1016/j.tics.2016.12.008) for a great motivation.\nWe implemented here temporal characteristics based on individual trough and peak relations,\nbased on the :meth:~`scipy.signal.find_peaks` method. The function parameter *distance* can be specified in the *settings.yaml*.\nTemporal features can be calculated twice for troughs and peaks. In the settings, this can be specified by setting *estimate* to true\nin *detect_troughs* and/or *detect_peaks*. A statistical measure (e.g. mean, max, median, var) can be defined as a resulting feature from the peak and\ntrough estimates using the *apply_estimator_between_peaks_and_troughs* setting.\n\nIn py_neuromodulation the following characteristics are implemented:\n\n<div class=\"alert alert-info\"><h4>Note</h4><p>The nomenclature is written here for sharpwave troughs, but detection of peak characteristics can be computed in the same way.</p></div>\n\n-  prominence:\n   $V_{prominence} = |\\frac{V_{peak-left} + V_{peak-right}}{2}| - V_{trough}$\n-  sharpness:\n   $V_{sharpnesss} = \\frac{(V_{trough} - V_{trough-5 ms}) + (V_{trough} - V_{trough+5 ms})}{2}$\n-  rise and decay rise time\n-  rise and decay steepness\n-  width (between left and right peaks)\n-  interval (between troughs)\n\nAdditionally, different filter ranges can be parametrized using the *filter_ranges_hz* setting.\nFiltering is necessary to remove high frequent signal fluctuations, but limits also the true estimation of sharpness and prominence due to signal smoothing.\n\n"
      ]
    },
    {
      "cell_type": "code",
      "execution_count": null,
      "metadata": {
        "collapsed": false
      },
      "outputs": [],
      "source": [
        "from typing import cast\nimport seaborn as sb\nfrom matplotlib import pyplot as plt\nfrom scipy import signal\nfrom scipy.signal import fftconvolve\nimport numpy as np\n\nimport py_neuromodulation as nm\nfrom py_neuromodulation import NMSettings\nfrom py_neuromodulation.features import SharpwaveAnalyzer"
      ]
    },
    {
      "cell_type": "markdown",
      "metadata": {},
      "source": [
        "We will first read the example ECoG data and plot the identified features on the filtered time series.\n\n"
      ]
    },
    {
      "cell_type": "code",
      "execution_count": null,
      "metadata": {
        "collapsed": false
      },
      "outputs": [],
      "source": [
        "RUN_NAME, PATH_RUN, PATH_BIDS, PATH_OUT, datatype = nm.io.get_paths_example_data()\n\n(\n    raw,\n    data,\n    sfreq,\n    line_noise,\n    coord_list,\n    coord_names,\n) = nm.io.read_BIDS_data(PATH_RUN=PATH_RUN)"
      ]
    },
    {
      "cell_type": "code",
      "execution_count": null,
      "metadata": {
        "collapsed": false
      },
      "outputs": [],
      "source": [
        "settings = NMSettings.get_fast_compute()\n\nsettings.features.fft = True\nsettings.features.bursts = False\nsettings.features.sharpwave_analysis = True\nsettings.features.coherence = False\n\nsettings.sharpwave_analysis_settings.estimator[\"mean\"] = []\nsettings.sharpwave_analysis_settings.sharpwave_features.enable_all()\nfor sw_feature in settings.sharpwave_analysis_settings.sharpwave_features.list_all():\n    settings.sharpwave_analysis_settings.estimator[\"mean\"].append(sw_feature)\n\nchannels = nm.utils.set_channels(\n    ch_names=raw.ch_names,\n    ch_types=raw.get_channel_types(),\n    reference=\"default\",\n    bads=raw.info[\"bads\"],\n    new_names=\"default\",\n    used_types=(\"ecog\", \"dbs\", \"seeg\"),\n    target_keywords=[\"MOV_RIGHT\"],\n)\n\nstream = nm.Stream(\n    sfreq=sfreq,\n    channels=channels,\n    settings=settings,\n    line_noise=line_noise,\n    coord_list=coord_list,\n    coord_names=coord_names,\n    verbose=False,\n)\nsw_analyzer = cast(\n    SharpwaveAnalyzer, stream.data_processor.features.get_feature(\"sharpwave_analysis\")\n)"
      ]
    },
    {
      "cell_type": "markdown",
      "metadata": {},
      "source": [
        "The plotted example time series, visualized on a short time scale, shows the relation of identified peaks, troughs, and estimated features:\n\n"
      ]
    },
    {
      "cell_type": "code",
      "execution_count": null,
      "metadata": {
        "collapsed": false
      },
      "outputs": [],
      "source": [
        "data_plt = data[5, 1000:4000]\n\nfiltered_dat = fftconvolve(data_plt, sw_analyzer.list_filter[0][1], mode=\"same\")\n\ntroughs = signal.find_peaks(-filtered_dat, distance=10)[0]\npeaks = signal.find_peaks(filtered_dat, distance=5)[0]\n\nsw_results = sw_analyzer.analyze_waveform(filtered_dat)\n\nWIDTH = BAR_WIDTH = 4\nBAR_OFFSET = 50\nOFFSET_TIME_SERIES = -100\nSCALE_TIMESERIES = 1\n\nhue_colors = sb.color_palette(\"viridis_r\", 6)\n\nplt.figure(figsize=(5, 3), dpi=300)\nplt.plot(\n    OFFSET_TIME_SERIES + data_plt,\n    color=\"gray\",\n    linewidth=0.5,\n    alpha=0.5,\n    label=\"original ECoG data\",\n)\nplt.plot(\n    OFFSET_TIME_SERIES + filtered_dat * SCALE_TIMESERIES,\n    linewidth=0.5,\n    color=\"black\",\n    label=\"[5-30]Hz filtered data\",\n)\n\nplt.plot(\n    peaks,\n    OFFSET_TIME_SERIES + filtered_dat[peaks] * SCALE_TIMESERIES,\n    \"x\",\n    label=\"peaks\",\n    markersize=3,\n    color=\"darkgray\",\n)\nplt.plot(\n    troughs,\n    OFFSET_TIME_SERIES + filtered_dat[troughs] * SCALE_TIMESERIES,\n    \"x\",\n    label=\"troughs\",\n    markersize=3,\n    color=\"lightgray\",\n)\n\nplt.bar(\n    troughs + BAR_WIDTH,\n    np.array(sw_results[\"prominence\"]) * 4,\n    bottom=BAR_OFFSET,\n    width=WIDTH,\n    color=hue_colors[0],\n    label=\"Prominence\",\n    alpha=0.5,\n)\nplt.bar(\n    troughs + BAR_WIDTH * 2,\n    -np.array(sw_results[\"sharpness\"]) * 6,\n    bottom=BAR_OFFSET,\n    width=WIDTH,\n    color=hue_colors[1],\n    label=\"Sharpness\",\n    alpha=0.5,\n)\nplt.bar(\n    troughs + BAR_WIDTH * 3,\n    np.array(sw_results[\"interval\"]) * 5,\n    bottom=BAR_OFFSET,\n    width=WIDTH,\n    color=hue_colors[2],\n    label=\"Interval\",\n    alpha=0.5,\n)\nplt.bar(\n    troughs + BAR_WIDTH * 4,\n    np.array(sw_results[\"rise_time\"]) * 5,\n    bottom=BAR_OFFSET,\n    width=WIDTH,\n    color=hue_colors[3],\n    label=\"Rise time\",\n    alpha=0.5,\n)\n\nplt.xticks(\n    np.arange(0, data_plt.shape[0], 200),\n    np.round(np.arange(0, int(data_plt.shape[0] / 1000), 0.2), 2),\n)\nplt.xlabel(\"Time [s]\")\nplt.title(\"Temporal waveform shape features\")\nplt.legend(loc=\"center left\", bbox_to_anchor=(1, 0.5))\nplt.ylim(-550, 700)\nplt.xlim(0, 200)\nplt.ylabel(\"a.u.\")\nplt.tight_layout()"
      ]
    },
    {
      "cell_type": "markdown",
      "metadata": {},
      "source": [
        "See in the following example a time series example, that is aligned to movement. With movement onset the prominence, sharpness, and interval features are reduced:\n\n"
      ]
    },
    {
      "cell_type": "code",
      "execution_count": null,
      "metadata": {
        "collapsed": false
      },
      "outputs": [],
      "source": [
        "plt.figure(figsize=(8, 5), dpi=300)\nplt.plot(\n    OFFSET_TIME_SERIES + data_plt,\n    color=\"gray\",\n    linewidth=0.5,\n    alpha=0.5,\n    label=\"original ECoG data\",\n)\nplt.plot(\n    OFFSET_TIME_SERIES + filtered_dat * SCALE_TIMESERIES,\n    linewidth=0.5,\n    color=\"black\",\n    label=\"[5-30]Hz filtered data\",\n)\n\nplt.plot(\n    peaks,\n    OFFSET_TIME_SERIES + filtered_dat[peaks] * SCALE_TIMESERIES,\n    \"x\",\n    label=\"peaks\",\n    markersize=3,\n    color=\"darkgray\",\n)\nplt.plot(\n    troughs,\n    OFFSET_TIME_SERIES + filtered_dat[troughs] * SCALE_TIMESERIES,\n    \"x\",\n    label=\"troughs\",\n    markersize=3,\n    color=\"lightgray\",\n)\n\nplt.bar(\n    troughs + BAR_WIDTH,\n    np.array(sw_results[\"prominence\"]) * 4,\n    bottom=BAR_OFFSET,\n    width=WIDTH,\n    color=hue_colors[0],\n    label=\"Prominence\",\n    alpha=0.5,\n)\nplt.bar(\n    troughs + BAR_WIDTH * 2,\n    -np.array(sw_results[\"sharpness\"]) * 6,\n    bottom=BAR_OFFSET,\n    width=WIDTH,\n    color=hue_colors[1],\n    label=\"Sharpness\",\n    alpha=0.5,\n)\nplt.bar(\n    troughs + BAR_WIDTH * 3,\n    np.array(sw_results[\"interval\"]) * 5,\n    bottom=BAR_OFFSET,\n    width=WIDTH,\n    color=hue_colors[2],\n    label=\"Interval\",\n    alpha=0.5,\n)\nplt.bar(\n    troughs + BAR_WIDTH * 4,\n    np.array(sw_results[\"rise_time\"]) * 5,\n    bottom=BAR_OFFSET,\n    width=WIDTH,\n    color=hue_colors[3],\n    label=\"Rise time\",\n    alpha=0.5,\n)\n\nplt.axvline(x=1500, label=\"Movement start\", color=\"red\")\n\n# plt.xticks(np.arange(0, 2000, 200), np.round(np.arange(0, 2, 0.2), 2))\nplt.xticks(\n    np.arange(0, data_plt.shape[0], 200),\n    np.round(np.arange(0, int(data_plt.shape[0] / 1000), 0.2), 2),\n)\nplt.xlabel(\"Time [s]\")\nplt.title(\"Temporal waveform shape features\")\nplt.legend(loc=\"center left\", bbox_to_anchor=(1, 0.5))\nplt.ylim(-450, 400)\nplt.ylabel(\"a.u.\")\nplt.tight_layout()"
      ]
    },
    {
      "cell_type": "markdown",
      "metadata": {},
      "source": [
        "In the *sharpwave_analysis_settings* the *estimator* keyword further specifies which statistic is computed based on the individual\nfeatures in one batch. The \"global\" setting *segment_length_features_ms* specifies the time duration for feature computation.\nSince there can be a different number of identified waveform shape features for different batches (i.e. different number of peaks/troughs),\ntaking a statistical measure (e.g. the maximum or mean) will be necessary for feature comparison.\n\n"
      ]
    },
    {
      "cell_type": "markdown",
      "metadata": {},
      "source": [
        "## Example time series computation for movement decoding\nWe will now read the ECoG example/data and investigate if samples differ across movement states. Therefore we compute features and enable the default *sharpwave* features.\n\n"
      ]
    },
    {
      "cell_type": "code",
      "execution_count": null,
      "metadata": {
        "collapsed": false
      },
      "outputs": [],
      "source": [
        "settings = NMSettings.get_default().reset()\n\nsettings.features.sharpwave_analysis = True\nsettings.sharpwave_analysis_settings.filter_ranges_hz = [[5, 80]]\n\nchannels[\"used\"] = 0  # set only two ECoG channels for faster computation to true\nchannels.loc[[3, 8], \"used\"] = 1\n\nstream = nm.Stream(\n    sfreq=sfreq,\n    channels=channels,\n    settings=settings,\n    line_noise=line_noise,\n    coord_list=coord_list,\n    coord_names=coord_names,\n    verbose=True,\n)\n\ndf_features = stream.run(data=data[:, :30000], save_csv=False)"
      ]
    },
    {
      "cell_type": "markdown",
      "metadata": {},
      "source": [
        "We can then plot two exemplary features, prominence and interval, and see that the movement amplitude can be clustered with those two features alone:\n\n"
      ]
    },
    {
      "cell_type": "code",
      "execution_count": null,
      "metadata": {
        "collapsed": false
      },
      "outputs": [],
      "source": [
        "plt.figure(figsize=(5, 3), dpi=300)\nprint(df_features.columns)\nplt.scatter(\n    df_features[\"ECOG_RIGHT_0_avgref_Sharpwave_Max_prominence_range_5_80\"],\n    df_features[\"ECOG_RIGHT_5_avgref_Sharpwave_Mean_interval_range_5_80\"],\n    c=df_features.MOV_RIGHT,\n    alpha=0.8,\n    s=30,\n)\ncbar = plt.colorbar()\ncbar.set_label(\"Movement amplitude\")\nplt.xlabel(\"Prominence a.u.\")\nplt.ylabel(\"Interval a.u.\")\nplt.title(\"Temporal features predict movement amplitude\")\nplt.tight_layout()"
      ]
    }
  ],
  "metadata": {
    "kernelspec": {
      "display_name": "Python 3",
      "language": "python",
      "name": "python3"
    },
    "language_info": {
      "codemirror_mode": {
        "name": "ipython",
        "version": 3
      },
      "file_extension": ".py",
      "mimetype": "text/x-python",
      "name": "python",
      "nbconvert_exporter": "python",
      "pygments_lexer": "ipython3",
      "version": "3.12.11"
    }
  },
  "nbformat": 4,
  "nbformat_minor": 0
}