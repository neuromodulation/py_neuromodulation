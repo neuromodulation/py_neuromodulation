{
  "cells": [
    {
      "cell_type": "markdown",
      "metadata": {},
      "source": [
        "\n# R-Map computation\n"
      ]
    },
    {
      "cell_type": "markdown",
      "metadata": {},
      "source": [
        "## Across patient decoding using R-Map optimal connectivity\n\nECoG electrode placement is commonly very heterogeneous across patients and cohorts.\nTo still facilitate approaches that are able to perform decoding applications without patient individual training,\ntwo across-patient decoding approaches were previously investigated for movement decoding:\n\n\n* grid-point decoding\n* optimal connectivity channel decoding\n\n\nFirst, the grid-point decoding approach relies on definition of a cortical or subcortical grid.\nData from individual grid points is then interpolated onto those common grid points.\nThe approach was also explained in the :doc:`plot_4_example_gridPointProjection` notebook.\n\n<img src=\"file://../_static/RMAP_figure.png\" alt=\"R-Map and grid point approach for decoding without patient-individual training\">\n\nThe R-Map decoding approach relies on the other hand on computation of whole brain connectivity. The electrode MNI space locations need to be known,\nthen the following steps can be performed for decoding without patient individual training:\n\n#. Using the [wjn_toolbox](https://github.com/neuromodulation/wjn_toolbox) *wjn_specrical_roi* function, the MNI coordinates can be transformed into NIFTI (.nii) files, containing the electrode contact region of interest (ROI):\n\n```python\nwjn_spherical_roi(roiname, mni, 4)\n```\n#. For the given *ROI.nii* files, the LeadDBS [LeadMapper](https://netstim.gitbook.io/leaddbs/connectomics/lead-mapper) tool can be used for functional or structural connectivity estimation.\n\n#. The py_neuromodulation :class:`~RMAP.py` module can then compute the R-Map given the contact-individual connectivity fingerprints:\n\n```python\nRMAP.calculate_RMap_numba(fingerprints, performances)\n```\n#. The fingerprints from test-set patients can then be correlated with the calculated R-Map:\n\n```python\nRMAP.get_corr_numba(fp, fp_test)\n```\n#. The channel with highest correlation can then be selected for decoding without individual training. :class:`~RMAP.py` contain already leave one channel and leave one patient out cross validation functions:\n\n```python\nRMAP.leave_one_sub_out_cv(l_fps_names, l_fps_dat, l_per, sub_list)\n```\n#. The obtained R-Map correlations can then be estimated statistically and plotted against true correlates:\n\n```python\nRMAP.plot_performance_prediction_correlation(per_left_out, per_predict, out_path_save)\n```\nsphinx_gallery_thumbnail_path = '_static/RMAP_figure.png'\n\n"
      ]
    }
  ],
  "metadata": {
    "kernelspec": {
      "display_name": "Python 3",
      "language": "python",
      "name": "python3"
    },
    "language_info": {
      "codemirror_mode": {
        "name": "ipython",
        "version": 3
      },
      "file_extension": ".py",
      "mimetype": "text/x-python",
      "name": "python",
      "nbconvert_exporter": "python",
      "pygments_lexer": "ipython3",
      "version": "3.12.11"
    }
  },
  "nbformat": 4,
  "nbformat_minor": 0
}